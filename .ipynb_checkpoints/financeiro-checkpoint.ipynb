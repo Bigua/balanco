{
 "cells": [
  {
   "cell_type": "code",
   "execution_count": 117,
   "metadata": {},
   "outputs": [],
   "source": [
    "import pandas as pd\n",
    "from datetime import datetime"
   ]
  },
  {
   "cell_type": "code",
   "execution_count": 118,
   "metadata": {},
   "outputs": [],
   "source": [
    "df1 = pd.read_csv(\"paypal.csv\", encoding='latin-1')"
   ]
  },
  {
   "cell_type": "code",
   "execution_count": 119,
   "metadata": {},
   "outputs": [],
   "source": [
    "paypal = pd.DataFrame(df1, columns=['Data', ' Nome', ' Líquido'])"
   ]
  },
  {
   "cell_type": "code",
   "execution_count": 120,
   "metadata": {},
   "outputs": [],
   "source": [
    "df2 = pd.read_excel('mercadopago.xls', sheet_name='0')"
   ]
  },
  {
   "cell_type": "code",
   "execution_count": 121,
   "metadata": {},
   "outputs": [],
   "source": [
    "mercado_pago = pd.DataFrame(df2, columns=['Data de pagamento', 'Tipo de operação','Valor'])"
   ]
  },
  {
   "cell_type": "code",
   "execution_count": 122,
   "metadata": {},
   "outputs": [],
   "source": [
    "df3 = pd.read_csv(\"caixa.txt\", delimiter=\";\")"
   ]
  },
  {
   "cell_type": "code",
   "execution_count": 123,
   "metadata": {},
   "outputs": [],
   "source": [
    "conta = pd.DataFrame(df3, columns=['Data_Mov','Historico', 'Valor','Deb_Cred'])"
   ]
  },
  {
   "cell_type": "code",
   "execution_count": 124,
   "metadata": {},
   "outputs": [],
   "source": [
    "def format_data_paypal(data):\n",
    "    return datetime.strptime(data, \"%d-%m-%Y\").strftime(\"%d/%m/%Y\")"
   ]
  },
  {
   "cell_type": "code",
   "execution_count": 125,
   "metadata": {},
   "outputs": [],
   "source": [
    "def format_data_mercadopago(data):\n",
    "    return datetime.strptime(data, \"%d/%m/%Y %H:%M\").strftime(\"%d/%m/%Y\")"
   ]
  },
  {
   "cell_type": "code",
   "execution_count": 126,
   "metadata": {},
   "outputs": [],
   "source": [
    "def format_data_caixa(data):\n",
    "    return datetime.strptime(str(data),\"%Y%m%d\").strftime(\"%d/%m/%Y\")"
   ]
  },
  {
   "cell_type": "code",
   "execution_count": 127,
   "metadata": {},
   "outputs": [],
   "source": [
    "paypal['Data'] = paypal['Data'].apply(format_data_paypal)"
   ]
  },
  {
   "cell_type": "code",
   "execution_count": 128,
   "metadata": {},
   "outputs": [],
   "source": [
    "mercado_pago['Data de pagamento'] = mercado_pago['Data de pagamento'].apply(format_data_mercadopago)"
   ]
  },
  {
   "cell_type": "code",
   "execution_count": 129,
   "metadata": {},
   "outputs": [],
   "source": [
    "conta['Data_Mov'] = conta['Data_Mov'].apply(format_data_caixa)"
   ]
  },
  {
   "cell_type": "code",
   "execution_count": 130,
   "metadata": {},
   "outputs": [],
   "source": [
    "def format_valor_paypal(data):\n",
    "    return float(data.replace(\".\",\"\").replace(\",\",\".\"))"
   ]
  },
  {
   "cell_type": "code",
   "execution_count": 131,
   "metadata": {},
   "outputs": [],
   "source": [
    "paypal['valor'] =  paypal[' Líquido'].apply(format_valor_paypal)\n",
    "paypal.drop(' Líquido', axis=1, inplace=True)"
   ]
  },
  {
   "cell_type": "code",
   "execution_count": 132,
   "metadata": {},
   "outputs": [],
   "source": [
    "def format_valor_caixa(linha):\n",
    "    if linha['Deb_Cred'] == 'D' and linha['Valor'] is not 0:\n",
    "        return linha['Valor'] * -1\n",
    "    else:\n",
    "        return linha['Valor']"
   ]
  },
  {
   "cell_type": "code",
   "execution_count": 133,
   "metadata": {},
   "outputs": [],
   "source": [
    "conta['Valor'] = conta.apply(format_valor_caixa, axis=1)"
   ]
  },
  {
   "cell_type": "code",
   "execution_count": 134,
   "metadata": {},
   "outputs": [],
   "source": [
    "conta.drop('Deb_Cred',axis=1, inplace=True)"
   ]
  },
  {
   "cell_type": "code",
   "execution_count": 135,
   "metadata": {},
   "outputs": [],
   "source": [
    "paypal[\"origem\"] = \"paypal\"\n",
    "mercado_pago[\"origem\"] = \"mercado pago\"\n",
    "conta[\"origem\"] = \"caixa\""
   ]
  },
  {
   "cell_type": "code",
   "execution_count": 136,
   "metadata": {},
   "outputs": [
    {
     "data": {
      "text/plain": [
       "431.12"
      ]
     },
     "execution_count": 136,
     "metadata": {},
     "output_type": "execute_result"
    }
   ],
   "source": [
    "paypal['valor'].sum() + mercado_pago['Valor'].sum() + conta['Valor'].sum()"
   ]
  },
  {
   "cell_type": "code",
   "execution_count": 137,
   "metadata": {},
   "outputs": [],
   "source": [
    "paypal.rename(columns={' Nome': 'quem'}, inplace=True)\n",
    "mercado_pago.rename(columns={'Data de pagamento': 'Data', 'Valor':'valor','Tipo de operação':'quem'}, inplace=True)\n",
    "conta.rename(columns={'Data_Mov': 'Data', 'Valor':'valor','Historico':'quem'}, inplace=True)"
   ]
  },
  {
   "cell_type": "code",
   "execution_count": 138,
   "metadata": {},
   "outputs": [],
   "source": [
    "frames = [paypal,mercado_pago,conta]"
   ]
  },
  {
   "cell_type": "code",
   "execution_count": 139,
   "metadata": {},
   "outputs": [],
   "source": [
    "fechamento = pd.concat(frames)"
   ]
  },
  {
   "cell_type": "code",
   "execution_count": 140,
   "metadata": {},
   "outputs": [],
   "source": [
    "def format_valor_export(data):\n",
    "    return data.replace(\".\",\",\")"
   ]
  },
  {
   "cell_type": "code",
   "execution_count": 141,
   "metadata": {},
   "outputs": [],
   "source": [
    "fechamento.valor = fechamento.valor.astype(str);\n",
    "fechamento.valor = fechamento.valor.apply(format_valor_export)"
   ]
  },
  {
   "cell_type": "code",
   "execution_count": 142,
   "metadata": {},
   "outputs": [
    {
     "name": "stdout",
     "output_type": "stream",
     "text": [
      "          Data                              quem    valor        origem\n",
      "0   26/07/2018                Gabriel R Ferreira     47,0        paypal\n",
      "1   26/07/2018          Juliano Genari de Araujo    37,48        paypal\n",
      "2   25/07/2018    JOAO RODRIGUES SILVEIRA JUNIOR    94,61        paypal\n",
      "3   25/07/2018                      Gilson Filho    18,44        paypal\n",
      "4   24/07/2018                    Jeronimo Filho    94,61        paypal\n",
      "5   23/07/2018           Tulio Monteiro Da Silva    13,68        paypal\n",
      "6   22/07/2018       Hamlet Pessoa Farias Junior     47,0        paypal\n",
      "7   22/07/2018                     TANIA MIRANDA     8,92        paypal\n",
      "8   22/07/2018                      Fabio Araujo     47,0        paypal\n",
      "9   22/07/2018     Luiz Felipe Sousa Melo Vieira     9,87        paypal\n",
      "10  22/07/2018                      Fabio Araujo     47,0        paypal\n",
      "11  22/07/2018       Alessandro Rizzatto Pignata     8,92        paypal\n",
      "12  21/07/2018  Paulo Henrique Barros de Almeida    94,61        paypal\n",
      "13  20/07/2018                        Phil Jones     93,0        paypal\n",
      "14  18/07/2018   Gustavo Soares Fernandes Coelho    94,61        paypal\n",
      "15  14/07/2018               EUSTAQUIO GUIMARAES    94,61        paypal\n",
      "16  13/07/2018    Humberto Rocha Gonçalves Filho    94,61        paypal\n",
      "17  13/07/2018              Magnun Leno da Silva     23,2        paypal\n",
      "18  13/07/2018          webert oliveira ferreira    56,53        paypal\n",
      "19  13/07/2018                   Edwaldo Queiroz    18,44        paypal\n",
      "20  13/07/2018                      Marcio Mazza    18,44        paypal\n",
      "21  12/07/2018        Gil Cesar Mesquita Barbosa    37,48        paypal\n",
      "22  07/07/2018         ROGERIO FONSECA GONCALVES     8,92        paypal\n",
      "23  04/07/2018                    Conta bancária   -880,0        paypal\n",
      "24  03/07/2018            odair scatolini junior    18,44        paypal\n",
      "25  03/07/2018                    Marcelo S Mota    27,96        paypal\n",
      "0   31/07/2018                         Pagamento    -16,9  mercado pago\n",
      "1   31/07/2018               Entrada de dinheiro     16,9  mercado pago\n",
      "2   26/07/2018                         Pagamento   -82,17  mercado pago\n",
      "3   26/07/2018               Entrada de dinheiro    82,17  mercado pago\n",
      "..         ...                               ...      ...           ...\n",
      "25  06/07/2018                         Pagamento  -151,88  mercado pago\n",
      "26  06/07/2018               Entrada de dinheiro   151,88  mercado pago\n",
      "27  03/07/2018                         Pagamento    -96,5  mercado pago\n",
      "28  03/07/2018               Entrada de dinheiro     96,5  mercado pago\n",
      "29  03/07/2018                         Pagamento   -109,5  mercado pago\n",
      "30  03/07/2018               Entrada de dinheiro    109,5  mercado pago\n",
      "0   01/07/2018                        REM BASICA      0,0         caixa\n",
      "1   01/07/2018                        CRED JUROS     0,19         caixa\n",
      "2   03/07/2018                          CRED TEV     75,0         caixa\n",
      "3   03/07/2018                        CP ELECTRO   -137,7         caixa\n",
      "4   08/07/2018                        REM BASICA      0,0         caixa\n",
      "5   08/07/2018                        CRED JUROS     2,89         caixa\n",
      "6   10/07/2018                          CRED TEV    100,0         caixa\n",
      "7   10/07/2018                          CRED TEV     65,0         caixa\n",
      "8   10/07/2018                        CP ELECTRO  -201,69         caixa\n",
      "9   12/07/2018                          CRED TEV    66,66         caixa\n",
      "10  12/07/2018                        CP ELECTRO  -106,89         caixa\n",
      "11  15/07/2018                        REM BASICA      0,0         caixa\n",
      "12  15/07/2018                        CRED JUROS     0,45         caixa\n",
      "13  17/07/2018                          CRED TEV     50,0         caixa\n",
      "14  17/07/2018                          CRED TEV     30,0         caixa\n",
      "15  17/07/2018                        CP ELECTRO   -73,89         caixa\n",
      "16  18/07/2018                        REM BASICA      0,0         caixa\n",
      "17  18/07/2018                        CRED JUROS     2,99         caixa\n",
      "18  20/07/2018                          CRED TED   635,06         caixa\n",
      "19  20/07/2018                          DOC ELET     20,0         caixa\n",
      "20  26/07/2018                          PAG FONE    -75,8         caixa\n",
      "21  26/07/2018                          PAG AGUA   -149,6         caixa\n",
      "22  28/07/2018                        REM BASICA      0,0         caixa\n",
      "23  28/07/2018                        CRED JUROS     3,07         caixa\n",
      "\n",
      "[81 rows x 4 columns]\n"
     ]
    }
   ],
   "source": [
    "print(fechamento)"
   ]
  },
  {
   "cell_type": "code",
   "execution_count": 143,
   "metadata": {},
   "outputs": [],
   "source": [
    "fechamento.to_csv('out.csv')"
   ]
  },
  {
   "cell_type": "code",
   "execution_count": null,
   "metadata": {},
   "outputs": [],
   "source": []
  },
  {
   "cell_type": "code",
   "execution_count": null,
   "metadata": {},
   "outputs": [],
   "source": []
  },
  {
   "cell_type": "code",
   "execution_count": null,
   "metadata": {},
   "outputs": [],
   "source": []
  },
  {
   "cell_type": "code",
   "execution_count": null,
   "metadata": {},
   "outputs": [],
   "source": []
  },
  {
   "cell_type": "code",
   "execution_count": null,
   "metadata": {},
   "outputs": [],
   "source": []
  },
  {
   "cell_type": "code",
   "execution_count": null,
   "metadata": {},
   "outputs": [],
   "source": []
  },
  {
   "cell_type": "code",
   "execution_count": null,
   "metadata": {},
   "outputs": [],
   "source": []
  }
 ],
 "metadata": {
  "kernelspec": {
   "display_name": "Python 3",
   "language": "python",
   "name": "python3"
  },
  "language_info": {
   "codemirror_mode": {
    "name": "ipython",
    "version": 3
   },
   "file_extension": ".py",
   "mimetype": "text/x-python",
   "name": "python",
   "nbconvert_exporter": "python",
   "pygments_lexer": "ipython3",
   "version": "3.7.0"
  }
 },
 "nbformat": 4,
 "nbformat_minor": 2
}
