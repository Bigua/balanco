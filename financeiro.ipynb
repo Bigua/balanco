{
 "cells": [
  {
   "cell_type": "code",
   "execution_count": 1,
   "metadata": {},
   "outputs": [],
   "source": [
    "import pandas as pd\n",
    "\n",
    "from utils import caixa, mercadopago, paypal"
   ]
  },
  {
   "cell_type": "code",
   "execution_count": 2,
   "metadata": {},
   "outputs": [],
   "source": [
    "caixa_df = caixa.extract_dataframe('data/input/caixa.txt')\n",
    "mercadopago_df = mercadopago.extract_dataframe('data/input/mercadopago.xls')\n",
    "paypal_df = paypal.extract_dataframe('data/input/paypal.csv')\n",
    "fechamento = pd.concat([paypal_df, mercadopago_df, caixa_df])"
   ]
  },
  {
   "cell_type": "code",
   "execution_count": 3,
   "metadata": {},
   "outputs": [
    {
     "data": {
      "text/plain": [
       "431.12000000000023"
      ]
     },
     "execution_count": 3,
     "metadata": {},
     "output_type": "execute_result"
    }
   ],
   "source": [
    "fechamento['valor'].sum()"
   ]
  },
  {
   "cell_type": "code",
   "execution_count": 4,
   "metadata": {},
   "outputs": [],
   "source": [
    "def format_valor_export(data):\n",
    "    return data.replace(\".\",\",\")"
   ]
  },
  {
   "cell_type": "code",
   "execution_count": 5,
   "metadata": {},
   "outputs": [
    {
     "name": "stdout",
     "output_type": "stream",
     "text": [
      "          data                 quem        origem    valor\n",
      "0   26/07/2018          DOADOR BLAH        paypal     47,0\n",
      "1   26/07/2018          DOADOR BLAH        paypal    37,48\n",
      "2   25/07/2018          DOADOR BLAH        paypal    94,61\n",
      "3   25/07/2018          DOADOR BLAH        paypal    18,44\n",
      "4   24/07/2018          DOADOR BLAH        paypal    94,61\n",
      "5   23/07/2018          DOADOR BLAH        paypal    13,68\n",
      "6   22/07/2018          DOADOR BLAH        paypal     47,0\n",
      "7   22/07/2018          DOADOR BLAH        paypal     8,92\n",
      "8   22/07/2018          DOADOR BLAH        paypal     47,0\n",
      "9   22/07/2018          DOADOR BLAH        paypal     9,87\n",
      "10  22/07/2018          DOADOR BLAH        paypal     47,0\n",
      "11  22/07/2018          DOADOR BLAH        paypal     8,92\n",
      "12  21/07/2018          DOADOR BLAH        paypal    94,61\n",
      "13  20/07/2018          DOADOR BLAH        paypal     93,0\n",
      "14  18/07/2018          DOADOR BLAH        paypal    94,61\n",
      "15  14/07/2018          DOADOR BLAH        paypal    94,61\n",
      "16  13/07/2018          DOADOR BLAH        paypal    94,61\n",
      "17  13/07/2018          DOADOR BLAH        paypal     23,2\n",
      "18  13/07/2018          DOADOR BLAH        paypal    56,53\n",
      "19  13/07/2018          DOADOR BLAH        paypal    18,44\n",
      "20  13/07/2018          DOADOR BLAH        paypal    18,44\n",
      "21  12/07/2018          DOADOR BLAH        paypal    37,48\n",
      "22  07/07/2018          DOADOR BLAH        paypal     8,92\n",
      "23  04/07/2018          DOADOR BLAH        paypal   -880,0\n",
      "24  03/07/2018          DOADOR BLAH        paypal    18,44\n",
      "25  03/07/2018          DOADOR BLAH        paypal    27,96\n",
      "0   31/07/2018            Pagamento  mercado pago    -16,9\n",
      "1   31/07/2018  Entrada de dinheiro  mercado pago     16,9\n",
      "2   26/07/2018            Pagamento  mercado pago   -82,17\n",
      "3   26/07/2018  Entrada de dinheiro  mercado pago    82,17\n",
      "..         ...                  ...           ...      ...\n",
      "25  06/07/2018            Pagamento  mercado pago  -151,88\n",
      "26  06/07/2018  Entrada de dinheiro  mercado pago   151,88\n",
      "27  03/07/2018            Pagamento  mercado pago    -96,5\n",
      "28  03/07/2018  Entrada de dinheiro  mercado pago     96,5\n",
      "29  03/07/2018            Pagamento  mercado pago   -109,5\n",
      "30  03/07/2018  Entrada de dinheiro  mercado pago    109,5\n",
      "0   01/07/2018           REM BASICA         caixa      0,0\n",
      "1   01/07/2018           CRED JUROS         caixa     0,19\n",
      "2   03/07/2018             CRED TEV         caixa     75,0\n",
      "3   03/07/2018           CP ELECTRO         caixa   -137,7\n",
      "4   08/07/2018           REM BASICA         caixa      0,0\n",
      "5   08/07/2018           CRED JUROS         caixa     2,89\n",
      "6   10/07/2018             CRED TEV         caixa    100,0\n",
      "7   10/07/2018             CRED TEV         caixa     65,0\n",
      "8   10/07/2018           CP ELECTRO         caixa  -201,69\n",
      "9   12/07/2018             CRED TEV         caixa    66,66\n",
      "10  12/07/2018           CP ELECTRO         caixa  -106,89\n",
      "11  15/07/2018           REM BASICA         caixa      0,0\n",
      "12  15/07/2018           CRED JUROS         caixa     0,45\n",
      "13  17/07/2018             CRED TEV         caixa     50,0\n",
      "14  17/07/2018             CRED TEV         caixa     30,0\n",
      "15  17/07/2018           CP ELECTRO         caixa   -73,89\n",
      "16  18/07/2018           REM BASICA         caixa      0,0\n",
      "17  18/07/2018           CRED JUROS         caixa     2,99\n",
      "18  20/07/2018             CRED TED         caixa   635,06\n",
      "19  20/07/2018             DOC ELET         caixa     20,0\n",
      "20  26/07/2018             PAG FONE         caixa    -75,8\n",
      "21  26/07/2018             PAG AGUA         caixa   -149,6\n",
      "22  28/07/2018           REM BASICA         caixa      0,0\n",
      "23  28/07/2018           CRED JUROS         caixa     3,07\n",
      "\n",
      "[81 rows x 4 columns]\n"
     ]
    }
   ],
   "source": [
    "fechamento.valor = fechamento.valor.astype(str);\n",
    "fechamento.valor = fechamento.valor.apply(format_valor_export)\n",
    "print(fechamento)\n"
   ]
  },
  {
   "cell_type": "code",
   "execution_count": 6,
   "metadata": {},
   "outputs": [],
   "source": [
    "fechamento.to_csv('data/output/out.csv')"
   ]
  },
  {
   "cell_type": "code",
   "execution_count": null,
   "metadata": {},
   "outputs": [],
   "source": []
  }
 ],
 "metadata": {
  "kernelspec": {
   "display_name": "Python 3",
   "language": "python",
   "name": "python3"
  },
  "language_info": {
   "codemirror_mode": {
    "name": "ipython",
    "version": 3
   },
   "file_extension": ".py",
   "mimetype": "text/x-python",
   "name": "python",
   "nbconvert_exporter": "python",
   "pygments_lexer": "ipython3",
   "version": "3.7.0"
  }
 },
 "nbformat": 4,
 "nbformat_minor": 2
}
