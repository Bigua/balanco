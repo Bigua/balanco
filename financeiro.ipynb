{
 "cells": [
  {
   "cell_type": "code",
   "execution_count": 157,
   "metadata": {},
   "outputs": [],
   "source": [
    "import pandas as pd\n",
    "from datetime import datetime"
   ]
  },
  {
   "cell_type": "code",
   "execution_count": 158,
   "metadata": {},
   "outputs": [],
   "source": [
    "df1 = pd.read_csv(\"paypal.csv\", encoding='latin-1')"
   ]
  },
  {
   "cell_type": "code",
   "execution_count": 159,
   "metadata": {},
   "outputs": [],
   "source": [
    "paypal = pd.DataFrame(df1, columns=['Data', ' Nome', ' Líquido'])"
   ]
  },
  {
   "cell_type": "code",
   "execution_count": 160,
   "metadata": {},
   "outputs": [],
   "source": [
    "df2 = pd.read_excel('mercadopago.xls', sheet_name='0')"
   ]
  },
  {
   "cell_type": "code",
   "execution_count": 161,
   "metadata": {},
   "outputs": [],
   "source": [
    "mercado_pago = pd.DataFrame(df2, columns=['Data de pagamento', 'Tipo de operação','Valor'])"
   ]
  },
  {
   "cell_type": "code",
   "execution_count": 162,
   "metadata": {},
   "outputs": [],
   "source": [
    "df3 = pd.read_csv(\"caixa.txt\", delimiter=\";\")"
   ]
  },
  {
   "cell_type": "code",
   "execution_count": 163,
   "metadata": {},
   "outputs": [],
   "source": [
    "conta = pd.DataFrame(df3, columns=['Data_Mov','Historico', 'Valor','Deb_Cred'])"
   ]
  },
  {
   "cell_type": "code",
   "execution_count": 164,
   "metadata": {},
   "outputs": [],
   "source": [
    "def format_data_paypal(data):\n",
    "    return datetime.strptime(data, \"%d-%m-%Y\").strftime(\"%d/%m/%Y\")"
   ]
  },
  {
   "cell_type": "code",
   "execution_count": 165,
   "metadata": {},
   "outputs": [],
   "source": [
    "def format_data_mercadopago(data):\n",
    "    return datetime.strptime(data, \"%d/%m/%Y %H:%M\").strftime(\"%d/%m/%Y\")"
   ]
  },
  {
   "cell_type": "code",
   "execution_count": 166,
   "metadata": {},
   "outputs": [],
   "source": [
    "def format_data_caixa(data):\n",
    "    return datetime.strptime(str(data),\"%Y%m%d\").strftime(\"%d/%m/%Y\")"
   ]
  },
  {
   "cell_type": "code",
   "execution_count": 167,
   "metadata": {},
   "outputs": [],
   "source": [
    "paypal['Data'] = paypal['Data'].apply(format_data_paypal)"
   ]
  },
  {
   "cell_type": "code",
   "execution_count": 168,
   "metadata": {},
   "outputs": [],
   "source": [
    "mercado_pago['Data de pagamento'] = mercado_pago['Data de pagamento'].apply(format_data_mercadopago)"
   ]
  },
  {
   "cell_type": "code",
   "execution_count": 169,
   "metadata": {},
   "outputs": [],
   "source": [
    "conta['Data_Mov'] = conta['Data_Mov'].apply(format_data_caixa)"
   ]
  },
  {
   "cell_type": "code",
   "execution_count": 170,
   "metadata": {},
   "outputs": [],
   "source": [
    "def format_valor_paypal(data):\n",
    "    return float(data.replace(\".\",\"\").replace(\",\",\".\"))"
   ]
  },
  {
   "cell_type": "code",
   "execution_count": 171,
   "metadata": {},
   "outputs": [],
   "source": [
    "paypal['valor'] =  paypal[' Líquido'].apply(format_valor_paypal)\n",
    "paypal.drop(' Líquido', axis=1, inplace=True)"
   ]
  },
  {
   "cell_type": "code",
   "execution_count": 172,
   "metadata": {},
   "outputs": [],
   "source": [
    "def format_valor_caixa(linha):\n",
    "    if linha['Deb_Cred'] == 'D' and linha['Valor'] is not 0:\n",
    "        return linha['Valor'] * -1\n",
    "    else:\n",
    "        return linha['Valor']"
   ]
  },
  {
   "cell_type": "code",
   "execution_count": 173,
   "metadata": {},
   "outputs": [],
   "source": [
    "conta['Valor'] = conta.apply(format_valor_caixa, axis=1)"
   ]
  },
  {
   "cell_type": "code",
   "execution_count": 174,
   "metadata": {},
   "outputs": [],
   "source": [
    "conta.drop('Deb_Cred',axis=1, inplace=True)"
   ]
  },
  {
   "cell_type": "code",
   "execution_count": 175,
   "metadata": {},
   "outputs": [],
   "source": [
    "paypal[\"origem\"] = \"paypal\"\n",
    "mercado_pago[\"origem\"] = \"mercado pago\"\n",
    "conta[\"origem\"] = \"caixa\""
   ]
  },
  {
   "cell_type": "code",
   "execution_count": 176,
   "metadata": {},
   "outputs": [
    {
     "data": {
      "text/plain": [
       "-60.030000000000086"
      ]
     },
     "execution_count": 176,
     "metadata": {},
     "output_type": "execute_result"
    }
   ],
   "source": [
    "paypal['valor'].sum() + mercado_pago['Valor'].sum() + conta['Valor'].sum()"
   ]
  },
  {
   "cell_type": "code",
   "execution_count": 177,
   "metadata": {},
   "outputs": [],
   "source": [
    "paypal.rename(columns={' Nome': 'quem'}, inplace=True)\n",
    "mercado_pago.rename(columns={'Data de pagamento': 'Data', 'Valor':'valor','Tipo de operação':'quem'}, inplace=True)\n",
    "conta.rename(columns={'Data_Mov': 'Data', 'Valor':'valor','Historico':'quem'}, inplace=True)"
   ]
  },
  {
   "cell_type": "code",
   "execution_count": 178,
   "metadata": {},
   "outputs": [],
   "source": [
    "frames = [paypal,mercado_pago,conta]"
   ]
  },
  {
   "cell_type": "code",
   "execution_count": 179,
   "metadata": {},
   "outputs": [],
   "source": [
    "fechamento = pd.concat(frames)"
   ]
  },
  {
   "cell_type": "code",
   "execution_count": 180,
   "metadata": {},
   "outputs": [],
   "source": [
    "def format_valor_export(data):\n",
    "    return data.replace(\".\",\",\")"
   ]
  },
  {
   "cell_type": "code",
   "execution_count": 181,
   "metadata": {},
   "outputs": [],
   "source": [
    "fechamento.valor = fechamento.valor.astype(str);\n",
    "fechamento.valor = fechamento.valor.apply(format_valor_export)\n",
    "fechamento = fechamento[['Data', 'quem', 'origem', 'valor']]\n"
   ]
  },
  {
   "cell_type": "code",
   "execution_count": 182,
   "metadata": {},
   "outputs": [
    {
     "name": "stdout",
     "output_type": "stream",
     "text": [
      "          Data                                   quem        origem    valor\n",
      "0   26/09/2018               Juliano Genari de Araujo        paypal    37,48\n",
      "1   26/09/2018                     Gabriel R Ferreira        paypal     47,0\n",
      "2   25/09/2018                           Gilson Filho        paypal    18,44\n",
      "3   25/09/2018         JOAO RODRIGUES SILVEIRA JUNIOR        paypal    94,61\n",
      "4   24/09/2018                         Jeronimo Filho        paypal    94,61\n",
      "5   23/09/2018                Tulio Monteiro Da Silva        paypal    13,68\n",
      "6   22/09/2018                           Fabio Araujo        paypal     47,0\n",
      "7   22/09/2018          Luiz Felipe Sousa Melo Vieira        paypal     9,87\n",
      "8   22/09/2018                           Fabio Araujo        paypal     47,0\n",
      "9   22/09/2018            Alessandro Rizzatto Pignata        paypal     8,92\n",
      "10  22/09/2018                          TANIA MIRANDA        paypal     8,92\n",
      "11  22/09/2018            Hamlet Pessoa Farias Junior        paypal     47,0\n",
      "12  21/09/2018       Paulo Henrique Barros de Almeida        paypal    94,61\n",
      "13  20/09/2018                             Phil Jones        paypal     93,0\n",
      "14  18/09/2018        Gustavo Soares Fernandes Coelho        paypal    94,61\n",
      "15  14/09/2018                    EUSTAQUIO GUIMARAES        paypal    94,61\n",
      "16  13/09/2018                        Edwaldo Queiroz        paypal    18,44\n",
      "17  13/09/2018         Humberto Rocha Gonçalves Filho        paypal    94,61\n",
      "18  13/09/2018                           Marcio Mazza        paypal    18,44\n",
      "19  13/09/2018               webert oliveira ferreira        paypal    56,53\n",
      "20  13/09/2018                   Magnun Leno da Silva        paypal     23,2\n",
      "21  12/09/2018             Gil Cesar Mesquita Barbosa        paypal    37,48\n",
      "22  07/09/2018                         Conta bancária        paypal   -500,0\n",
      "23  07/09/2018              ROGERIO FONSECA GONCALVES        paypal     8,92\n",
      "24  07/09/2018                    Marcelo Moraes Lima        paypal     8,92\n",
      "25  04/09/2018                         Conta bancária        paypal  -1100,0\n",
      "26  03/09/2018                 odair scatolini junior        paypal    18,44\n",
      "27  03/09/2018                         Marcelo S Mota        paypal    27,96\n",
      "28  01/09/2018                             Deivi Kuhn        paypal    94,61\n",
      "0   26/09/2018  Saque de dinheiro para conta bancária  mercado pago   -206,0\n",
      "1   25/09/2018                      Dinheiro recebido  mercado pago    100,0\n",
      "0   01/09/2018                             REM BASICA         caixa      0,0\n",
      "1   01/09/2018                             CRED JUROS         caixa     0,14\n",
      "2   03/09/2018                             REM BASICA         caixa      0,0\n",
      "3   03/09/2018                             CRED JUROS         caixa     0,41\n",
      "4   05/09/2018                               CRED TEV         caixa     50,0\n",
      "5   08/09/2018                             REM BASICA         caixa      0,0\n",
      "6   08/09/2018                             CRED JUROS         caixa     2,62\n",
      "7   15/09/2018                             REM BASICA         caixa      0,0\n",
      "8   15/09/2018                             CRED JUROS         caixa     0,45\n",
      "9   17/09/2018                             REM BASICA         caixa      0,0\n",
      "10  17/09/2018                             CRED JUROS         caixa     0,06\n",
      "11  18/09/2018                             REM BASICA         caixa      0,0\n",
      "12  18/09/2018                             CRED JUROS         caixa     3,01\n",
      "13  19/09/2018                               DOC ELET         caixa    500,0\n",
      "14  20/09/2018                             REM BASICA         caixa      0,0\n",
      "15  20/09/2018                             CRED JUROS         caixa     1,31\n",
      "16  25/09/2018                             CP ELECTRO         caixa   -73,89\n",
      "17  27/09/2018                             CX PROGRAM         caixa    206,0\n",
      "18  27/09/2018                               CRED TED         caixa     50,0\n",
      "19  28/09/2018                             REM BASICA         caixa      0,0\n",
      "20  28/09/2018                             CRED JUROS         caixa     2,82\n",
      "21  28/09/2018                               TELEFONE         caixa   -80,87\n",
      "22  28/09/2018                                   AGUA         caixa   -155,0\n",
      "23  28/09/2018                                    LUZ         caixa   -120,0\n"
     ]
    }
   ],
   "source": [
    "print(fechamento)"
   ]
  },
  {
   "cell_type": "code",
   "execution_count": 183,
   "metadata": {},
   "outputs": [],
   "source": [
    "fechamento.to_csv('out.csv')"
   ]
  },
  {
   "cell_type": "code",
   "execution_count": null,
   "metadata": {},
   "outputs": [],
   "source": []
  },
  {
   "cell_type": "code",
   "execution_count": null,
   "metadata": {},
   "outputs": [],
   "source": []
  },
  {
   "cell_type": "code",
   "execution_count": null,
   "metadata": {},
   "outputs": [],
   "source": []
  },
  {
   "cell_type": "code",
   "execution_count": null,
   "metadata": {},
   "outputs": [],
   "source": []
  },
  {
   "cell_type": "code",
   "execution_count": null,
   "metadata": {},
   "outputs": [],
   "source": []
  },
  {
   "cell_type": "code",
   "execution_count": null,
   "metadata": {},
   "outputs": [],
   "source": []
  },
  {
   "cell_type": "code",
   "execution_count": null,
   "metadata": {},
   "outputs": [],
   "source": []
  }
 ],
 "metadata": {
  "kernelspec": {
   "display_name": "Python 3",
   "language": "python",
   "name": "python3"
  },
  "language_info": {
   "codemirror_mode": {
    "name": "ipython",
    "version": 3
   },
   "file_extension": ".py",
   "mimetype": "text/x-python",
   "name": "python",
   "nbconvert_exporter": "python",
   "pygments_lexer": "ipython3",
   "version": "3.7.0"
  }
 },
 "nbformat": 4,
 "nbformat_minor": 2
}
